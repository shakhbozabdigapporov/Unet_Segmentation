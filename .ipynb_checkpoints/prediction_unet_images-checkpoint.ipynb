{
 "cells": [
  {
   "cell_type": "code",
   "execution_count": 85,
   "id": "a77da1c1-fc22-4f9f-88d2-e6a0714fafb6",
   "metadata": {},
   "outputs": [],
   "source": [
    "import os\n",
    "import matplotlib.pyplot as plt\n",
    "\n",
    "import tensorflow as tf\n",
    "from tensorflow.keras.preprocessing.image import ImageDataGenerator \n",
    "from tensorflow import keras\n",
    "import numpy as np\n",
    "from PIL import Image"
   ]
  },
  {
   "cell_type": "code",
   "execution_count": 87,
   "id": "baeff1fd-93c2-46b6-a930-ae3eab60540b",
   "metadata": {},
   "outputs": [],
   "source": [
    "BATCH_SIZE = 16 # adjust the batch size\n",
    "IMAGE_HEIGHT = 512  # adjust the number\n",
    "IMAGE_WIDTH = 512 # adjust the number\n",
    "IMG_SIZE = (IMAGE_HEIGHT, IMAGE_WIDTH)\n",
    "SEED = 42"
   ]
  },
  {
   "cell_type": "code",
   "execution_count": 96,
   "id": "9ac5f6e2-4408-4f20-9a60-9c38c7600269",
   "metadata": {
    "editable": true,
    "slideshow": {
     "slide_type": ""
    },
    "tags": []
   },
   "outputs": [],
   "source": [
    "img_path = 'Path to image directory'\n",
    "msk_path = 'Path to mask directory'\n",
    "output_dir = 'Path to saving the tested images directory'\n",
    "lowest_iou_dir = 'path to save the lowest IoU results'"
   ]
  },
  {
   "cell_type": "code",
   "execution_count": 98,
   "id": "714d06e5-15e5-4add-a4c0-d4f668dc7c5a",
   "metadata": {},
   "outputs": [],
   "source": [
    "smooth = 1e-15\n",
    "def dice_coef(y_true, y_pred):\n",
    "    y_true = tf.keras.layers.Flatten()(y_true)\n",
    "    y_pred = tf.keras.layers.Flatten()(y_pred)\n",
    "    intersection = tf.reduce_sum(y_true * y_pred)\n",
    "    return (2. * intersection + smooth) / (tf.reduce_sum(y_true) + tf.reduce_sum(y_pred) + smooth)"
   ]
  },
  {
   "cell_type": "code",
   "execution_count": 100,
   "id": "149058ad-f590-4677-a90c-be97d51a6c1c",
   "metadata": {},
   "outputs": [],
   "source": [
    "import tensorflow as tf\n",
    "model = tf.keras.models.load_model(\"weight_file.h5\", custom_objects={\"dice_coef\": dice_coef})"
   ]
  },
  {
   "cell_type": "code",
   "execution_count": 102,
   "id": "8bf5a06b-b069-4225-83a4-341be9cf45f9",
   "metadata": {},
   "outputs": [],
   "source": [
    "def create_segmentation_generator_test(img_path, batch_size):\n",
    "    data_gen_args = dict(rescale=1./255)\n",
    "    datagen = ImageDataGenerator(**data_gen_args)\n",
    "    \n",
    "    img_generator = datagen.flow_from_directory(\n",
    "        img_path,\n",
    "        target_size=IMG_SIZE,\n",
    "        class_mode=None,\n",
    "        color_mode='grayscale',\n",
    "        batch_size=batch_size,\n",
    "        seed=SEED,\n",
    "        shuffle=False\n",
    "    )\n",
    "    msk_generator = datagen.flow_from_directory(\n",
    "        msk_path,\n",
    "        target_size=IMG_SIZE,\n",
    "        class_mode=None,\n",
    "        color_mode='grayscale',\n",
    "        batch_size=BATCH_SIZE,\n",
    "        seed=SEED,\n",
    "        shuffle = False\n",
    "    )\n",
    "    filenames = img_generator.filenames\n",
    "    return img_generator,msk_generator, filenames"
   ]
  },
  {
   "cell_type": "markdown",
   "id": "45dc5110-15aa-42aa-a03f-7666cd3d879e",
   "metadata": {},
   "source": [
    "## Starting from here batch size does not matter"
   ]
  },
  {
   "cell_type": "code",
   "execution_count": 104,
   "id": "aa3ffba6-18ee-4a2a-b649-b3a284d5e527",
   "metadata": {},
   "outputs": [],
   "source": [
    "import numpy as np\n",
    "from keras.preprocessing.image import ImageDataGenerator\n",
    "from sklearn.metrics import accuracy_score, f1_score\n",
    "\n",
    "def dice_coefficient(y_true, y_pred):\n",
    "    intersection = np.sum(y_true * y_pred)\n",
    "    denominator = np.sum(y_true) + np.sum(y_pred)\n",
    "    if denominator == 0:\n",
    "        return 1.0 if np.sum(y_true) == 0 and np.sum(y_pred) == 0 else 0.0\n",
    "    \n",
    "    return 2 * intersection / denominator\n",
    "\n",
    "def calculate_accuracy(y_true, y_pred):\n",
    "    return np.mean(y_true.flatten() == y_pred.flatten())\n",
    "\n",
    "def binary_iou(y_true, y_pred):\n",
    "    intersection = np.sum(y_true * y_pred)\n",
    "    union = np.sum(y_true) + np.sum(y_pred) - intersection\n",
    "    if union == 0:\n",
    "        return 1.0 if np.sum(y_true) == 0 and np.sum(y_pred) == 0 else 0.0\n",
    "    \n",
    "    return intersection / union"
   ]
  },
  {
   "cell_type": "code",
   "execution_count": 90,
   "id": "55260ff4-ebed-49b3-90d9-4bb02deadbbc",
   "metadata": {},
   "outputs": [],
   "source": [
    "def predict_and_save_masks(model, img_datagen, msk_datagen, filenames, output_dir, lowest_iou_dir):\n",
    "    if not os.path.exists(output_dir):\n",
    "        os.makedirs(output_dir)\n",
    "    \n",
    "    if not os.path.exists(lowest_iou_dir):\n",
    "        os.makedirs(lowest_iou_dir)\n",
    "\n",
    "    num_images = len(filenames)\n",
    "    num_batches = num_images // img_datagen.batch_size\n",
    "    remainder = num_images % img_datagen.batch_size\n",
    "\n",
    "    total_accuracy = 0\n",
    "    total_dice = 0\n",
    "    total_iou = 0\n",
    "    highest_iou = -1 \n",
    "    lowest_iou = 1  \n",
    "    num_images_processed = 0\n",
    "    lowest_iou_img_path = None  \n",
    "    lowest_iou_gt_path = None  \n",
    "    lowest_iou_value = 1 \n",
    "\n",
    "    for i in range(num_batches):\n",
    "        img_batch = next(img_datagen)\n",
    "        msk_batch = next(msk_datagen)\n",
    "        \n",
    "        pred_masks = model.predict(img_batch, verbose=0)\n",
    "        \n",
    "        for j, pred_mask in enumerate(pred_masks):\n",
    "            original_filename = os.path.basename(filenames[i * img_datagen.batch_size + j])\n",
    "            save_path = os.path.join(output_dir, f'{os.path.splitext(original_filename)[0]}.png')\n",
    "            \n",
    "            pred_mask_bin = (pred_mask.squeeze() > 0.5).astype(np.uint8)\n",
    "            pred_mask_img = Image.fromarray(pred_mask_bin * 255)\n",
    "            pred_mask_img.save(save_path)\n",
    "\n",
    "            ground_truth_mask = msk_batch[j].squeeze().astype(np.uint8)\n",
    "\n",
    "            if np.sum(ground_truth_mask) == 0 and np.sum(pred_mask_bin) == 0:\n",
    "                continue \n",
    "\n",
    "            accuracy = calculate_accuracy(ground_truth_mask, pred_mask_bin)\n",
    "            dice = dice_coefficient(ground_truth_mask, pred_mask_bin)\n",
    "            iou = binary_iou(ground_truth_mask, pred_mask_bin)\n",
    "\n",
    "            total_accuracy += accuracy\n",
    "            total_dice += dice\n",
    "            total_iou += iou\n",
    "            num_images_processed += 1\n",
    "\n",
    "            if iou > highest_iou:\n",
    "                highest_iou = iou\n",
    "            if iou < lowest_iou:\n",
    "                lowest_iou = iou\n",
    "                lowest_iou_img_path = save_path \n",
    "                lowest_iou_gt_path = os.path.join(lowest_iou_dir, f'{os.path.splitext(original_filename)[0]}_gt.png')\n",
    "                gt_mask_img = Image.fromarray(ground_truth_mask * 255)\n",
    "                gt_mask_img.save(lowest_iou_gt_path)\n",
    "\n",
    "    if remainder > 0:\n",
    "        img_batch = next(img_datagen)\n",
    "        msk_batch = next(msk_datagen)\n",
    "        pred_masks = model.predict(img_batch[:remainder], verbose=0)\n",
    "        \n",
    "        for j, pred_mask in enumerate(pred_masks):\n",
    "            original_filename = os.path.basename(filenames[num_batches * img_datagen.batch_size + j])\n",
    "            save_path = os.path.join(output_dir, f'{os.path.splitext(original_filename)[0]}.png')\n",
    "\n",
    "            pred_mask_bin = (pred_mask.squeeze() > 0.5).astype(np.uint8)\n",
    "            pred_mask_img = Image.fromarray(pred_mask_bin * 255)\n",
    "            pred_mask_img.save(save_path)\n",
    "\n",
    "            ground_truth_mask = msk_batch[j].squeeze().astype(np.uint8)\n",
    "\n",
    "            if np.sum(ground_truth_mask) == 0 and np.sum(pred_mask_bin) == 0:\n",
    "                continue\n",
    "\n",
    "            accuracy = calculate_accuracy(ground_truth_mask, pred_mask_bin)\n",
    "            dice = dice_coefficient(ground_truth_mask, pred_mask_bin)\n",
    "            iou = binary_iou(ground_truth_mask, pred_mask_bin)\n",
    "            \n",
    "            total_accuracy += accuracy\n",
    "            total_dice += dice\n",
    "            total_iou += iou\n",
    "            num_images_processed += 1\n",
    "\n",
    "            if iou > highest_iou:\n",
    "                highest_iou = iou\n",
    "            if iou < lowest_iou:\n",
    "                lowest_iou = iou\n",
    "                lowest_iou_img_path = save_path\n",
    "                lowest_iou_gt_path = os.path.join(lowest_iou_dir, f'{os.path.splitext(original_filename)[0]}_gt.png')\n",
    "\n",
    "                gt_mask_img = Image.fromarray(ground_truth_mask * 255)\n",
    "                gt_mask_img.save(lowest_iou_gt_path)\n",
    "\n",
    "    if num_images_processed > 0:\n",
    "        avg_accuracy = total_accuracy / num_images_processed\n",
    "        avg_dice = total_dice / num_images_processed\n",
    "        avg_iou = total_iou / num_images_processed\n",
    "    else:\n",
    "        avg_accuracy = avg_dice = avg_iou = 0.0\n",
    "\n",
    "    print(f'Average Accuracy: {avg_accuracy:.4f}')\n",
    "    print(f'Average Dice Coefficient: {avg_dice:.4f}')\n",
    "    print(f'Average IoU: {avg_iou:.4f}')\n",
    "    print(f'Highest IoU: {highest_iou:.4f}')\n",
    "    print(f'Lowest IoU: {lowest_iou:.4f}')"
   ]
  },
  {
   "cell_type": "code",
   "execution_count": 110,
   "id": "dd571cc6-787d-4a06-845c-a0d521f59f6e",
   "metadata": {},
   "outputs": [
    {
     "name": "stdout",
     "output_type": "stream",
     "text": [
      "Found 100 images belonging to 1 classes.\n",
      "Found 100 images belonging to 1 classes.\n"
     ]
    }
   ],
   "source": [
    "img_gen, msk_gen, filenames = create_segmentation_generator_test(img_path, BATCH_SIZE)"
   ]
  },
  {
   "cell_type": "code",
   "execution_count": null,
   "id": "b6b2e517-2099-4e7d-8f6d-d83566bcbc58",
   "metadata": {},
   "outputs": [],
   "source": [
    "predict_and_save_masks_2(model, img_gen, msk_gen, filenames, output_dir, lowest_iou_dir)"
   ]
  },
  {
   "cell_type": "markdown",
   "id": "0b01646c-d94c-4b5e-b174-bf90c9f528a7",
   "metadata": {},
   "source": [
    "## Overlaying the Predictions onto the Images"
   ]
  },
  {
   "cell_type": "code",
   "execution_count": 384,
   "id": "f69070ef-e6b1-4357-b4e2-5e03bd44be2d",
   "metadata": {},
   "outputs": [],
   "source": [
    "import cv2\n",
    "import numpy as np\n",
    "import os\n",
    "import tensorflow as tf\n",
    "\n",
    "def predict_and_save_masks_2(model, datagen, filenames, output_dir):\n",
    "    if not os.path.exists(output_dir):\n",
    "        os.makedirs(output_dir)\n",
    "    num_images = len(filenames)\n",
    "    num_batches = num_images // datagen.batch_size\n",
    "    remainder = num_images % datagen.batch_size\n",
    "\n",
    "    def overlay_mask_on_image(image, mask, color=(0, 0, 255), alpha=0.2):\n",
    "        mask = (mask.squeeze() > 0.5).astype(np.uint8)\n",
    "\n",
    "        colored_mask = np.zeros_like(image)\n",
    "        colored_mask[mask == 1] = color\n",
    "\n",
    "        overlayed_image = cv2.addWeighted(colored_mask, alpha, image, 1 - alpha, 0)\n",
    "\n",
    "        return overlayed_image\n",
    "\n",
    "    for i in range(num_batches):\n",
    "        img_batch = next(datagen)\n",
    "        \n",
    "        pred_masks = model.predict(img_batch, verbose=0)\n",
    "        \n",
    "        for j, (img, pred_mask) in enumerate(zip(img_batch, pred_masks)):\n",
    "            original_filename = os.path.basename(filenames[i * datagen.batch_size + j])\n",
    "            save_path = os.path.join(output_dir, f'{os.path.splitext(original_filename)[0]}_overlay.png')\n",
    "            \n",
    "            img = (img * 255).astype(np.uint8)\n",
    "            img = cv2.cvtColor(img, cv2.COLOR_RGB2BGR)\n",
    "            \n",
    "            overlayed_img = overlay_mask_on_image(img, pred_mask)\n",
    "            cv2.imwrite(save_path, overlayed_img)\n",
    "\n",
    "    if remainder > 0:\n",
    "        img_batch = next(datagen)\n",
    "        pred_masks = model.predict(img_batch[:remainder], verbose=0)\n",
    "        \n",
    "        for j, (img, pred_mask) in enumerate(zip(img_batch[:remainder], pred_masks)):\n",
    "            original_filename = os.path.basename(filenames[num_batches * datagen.batch_size + j])\n",
    "            save_path = os.path.join(output_dir, f'{os.path.splitext(original_filename)[0]}_overlay.png')\n",
    "            \n",
    "            img = (img * 255).astype(np.uint8)\n",
    "            img = cv2.cvtColor(img, cv2.COLOR_RGB2BGR)\n",
    "            \n",
    "            overlayed_img = overlay_mask_on_image(img, pred_mask)\n",
    "            cv2.imwrite(save_path, overlayed_img)\n"
   ]
  },
  {
   "cell_type": "code",
   "execution_count": 392,
   "id": "ac7b1042-bb67-4149-a213-a92f781c6212",
   "metadata": {},
   "outputs": [],
   "source": [
    "model = tf.keras.models.load_model(\"weight_file.h5\")\n",
    "img_path = 'image_path'\n",
    "output_dir = 'output_path'"
   ]
  },
  {
   "cell_type": "code",
   "execution_count": 394,
   "id": "bb851d97-42a5-439a-ae0d-6b7a6d766f1a",
   "metadata": {},
   "outputs": [
    {
     "name": "stdout",
     "output_type": "stream",
     "text": [
      "Found 92 images belonging to 1 classes.\n"
     ]
    }
   ],
   "source": [
    "gen, filenames = create_segmentation_generator_test(img_path, BATCH_SIZE)"
   ]
  },
  {
   "cell_type": "code",
   "execution_count": 398,
   "id": "5f359f32-c4e5-4597-8166-24a5d91e73cf",
   "metadata": {},
   "outputs": [],
   "source": [
    "predict_and_save_masks_2(model, gen, filenames, output_dir)"
   ]
  }
 ],
 "metadata": {
  "kernelspec": {
   "display_name": "unet_seg",
   "language": "python",
   "name": "unet_seg"
  },
  "language_info": {
   "codemirror_mode": {
    "name": "ipython",
    "version": 3
   },
   "file_extension": ".py",
   "mimetype": "text/x-python",
   "name": "python",
   "nbconvert_exporter": "python",
   "pygments_lexer": "ipython3",
   "version": "3.9.20"
  }
 },
 "nbformat": 4,
 "nbformat_minor": 5
}
